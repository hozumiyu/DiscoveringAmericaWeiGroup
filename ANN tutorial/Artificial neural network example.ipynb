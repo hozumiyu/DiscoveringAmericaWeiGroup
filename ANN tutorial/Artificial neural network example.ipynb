{
 "cells": [
  {
   "cell_type": "markdown",
   "id": "f47ffa88",
   "metadata": {},
   "source": [
    "# Artificial Neural Netowork"
   ]
  },
  {
   "cell_type": "markdown",
   "id": "95894253",
   "metadata": {},
   "source": [
    "In this tutorial, I will showcase how to use aritifical neural network (ANN) in Tensorflow.\n",
    "\n",
    "Tensorflow is a deep learning package implemented on python. Very broadly speaking, tensorflow allows us to use GPU without much effort. It is a package that is an overlay ontop of popular math-packages, like numpy, scipy and sklearn, and converts arrays into something GPU can handle. You can also use pytorch, if you prefer, but the paper we are reproducing utilizes tensorflow. Please check tensorflow website for more details [TensorFlow Website](https://www.tensorflow.org/)\n",
    "\n",
    "Please begin by running the below code to install the relevant packages. If there is some kind of error, remove the -q to display error."
   ]
  },
  {
   "cell_type": "code",
   "execution_count": 1,
   "id": "aeb734a1",
   "metadata": {},
   "outputs": [
    {
     "name": "stdout",
     "output_type": "stream",
     "text": [
      "Requirement already satisfied: matplotlib in c:\\users\\yutah\\anaconda3\\lib\\site-packages (3.7.2)\n",
      "Requirement already satisfied: contourpy>=1.0.1 in c:\\users\\yutah\\anaconda3\\lib\\site-packages (from matplotlib) (1.0.5)\n",
      "Requirement already satisfied: cycler>=0.10 in c:\\users\\yutah\\anaconda3\\lib\\site-packages (from matplotlib) (0.11.0)\n",
      "Requirement already satisfied: fonttools>=4.22.0 in c:\\users\\yutah\\anaconda3\\lib\\site-packages (from matplotlib) (4.25.0)\n",
      "Requirement already satisfied: kiwisolver>=1.0.1 in c:\\users\\yutah\\anaconda3\\lib\\site-packages (from matplotlib) (1.4.4)\n",
      "Requirement already satisfied: numpy>=1.20 in c:\\users\\yutah\\anaconda3\\lib\\site-packages (from matplotlib) (1.24.3)\n",
      "Requirement already satisfied: packaging>=20.0 in c:\\users\\yutah\\anaconda3\\lib\\site-packages (from matplotlib) (23.1)\n",
      "Requirement already satisfied: pillow>=6.2.0 in c:\\users\\yutah\\anaconda3\\lib\\site-packages (from matplotlib) (10.0.1)\n",
      "Requirement already satisfied: pyparsing<3.1,>=2.3.1 in c:\\users\\yutah\\anaconda3\\lib\\site-packages (from matplotlib) (3.0.9)\n",
      "Requirement already satisfied: python-dateutil>=2.7 in c:\\users\\yutah\\anaconda3\\lib\\site-packages (from matplotlib) (2.8.2)\n",
      "Requirement already satisfied: six>=1.5 in c:\\users\\yutah\\anaconda3\\lib\\site-packages (from python-dateutil>=2.7->matplotlib) (1.16.0)\n"
     ]
    }
   ],
   "source": [
    "!pip install -q tensorflow\n",
    "!pip install -q numpy \n",
    "!pip install matplotlib"
   ]
  },
  {
   "cell_type": "markdown",
   "id": "d8eabd37",
   "metadata": {},
   "source": [
    "![title](img/ANN_network.png)\n",
    "ANN contains 3 main parts.\n",
    "1) The input layer: Vectorized data. For single cell we will preprocess the data to about ~1000 features. See the [Scanpy tutorial](https://scanpy-tutorials.readthedocs.io/en/latest/pbmc3k.html) on clustering to see how this is performed\n",
    "2) Hidden layer: This is the 'black box' portion of deep learning. We need to determine how many hidden layers we want, and the number of nodes (the circles) we want\n",
    "3) Output layers: This is where we compare our prediction with the true solution. For classification, if there are 10 classes, we would have 10 nodes. For regression, this will depend on the architecture."
   ]
  },
  {
   "cell_type": "markdown",
   "id": "d61788b3",
   "metadata": {},
   "source": [
    "# Notation"
   ]
  },
  {
   "cell_type": "markdown",
   "id": "3beeea9f",
   "metadata": {},
   "source": [
    "Let us begin by talking breifly about the notation.\n",
    "1) Our data will be $X \\in \\mathbb{R}^{M,N}$. This means we have $M$ data, and $N$ features, where the rows of matrix $X$ correspond to each data, and the columns indicate the features. Let $Y \\in \\mathbb{R}^N$ be the labels, or the true cell type. For classification problem, the labels will be some integer, and for regression problem, the label will be some number. \n",
    "\n",
    "An example of our data may look like the following:\n",
    "\n",
    "data | gene 1 | gene 2| ... | gene N|Label|\n",
    "| :-: | :-: | :-: |:-: | :-:|:-:|\n",
    "cell 1 | 0 | 10 | ... | 0 | Oligodendrocytes |\n",
    "cell 2 | 0.1 | 0 | ... | 100|Oligodendrocytes |\n",
    "... | ... | ... | ... | ...|...|\n",
    "cell M | 100 | 0| ... | 100|Astrocytes |\n",
    "\n",
    "2) The $i$-th data will be often be denoted as $\\mathbf{x}_i$, which is a vector of length $N$ (features). Then, $\\mathbf{x}_i = (x_{i1}, ..., x_{ij}, ...,x_{iN})$, where $x_{ij}$ is the $j$-th feature of data $i$.\n",
    "\n",
    "3) Similarly, the $i$-th label is denoted as $y_i$"
   ]
  },
  {
   "cell_type": "markdown",
   "id": "ade7ba75",
   "metadata": {},
   "source": [
    "# Data loading\n",
    "\n",
    "Let us start by first obtaining the digits dataset from tensorflow.\n",
    "\n",
    "First, import relevant librarie.\n",
    "Run the following code to load the digits dataset. \n",
    "\n",
    "MNIST is a 28 by 28 digit image, where the goal is to classify the digits from 1 to 10.\n",
    "\n",
    "We will do a scaling on the data so that each pixel has a value between 0 and 1"
   ]
  },
  {
   "cell_type": "code",
   "execution_count": 2,
   "id": "4cd0aaed",
   "metadata": {},
   "outputs": [],
   "source": [
    "import tensorflow as tf\n",
    "import matplotlib.pyplot as plt #this is for plotting our digits\n",
    "import numpy as np\n",
    "mnist = tf.keras.datasets.mnist\n",
    "(x_train, y_train), (x_test, y_test) = mnist.load_data()\n",
    "x_train, x_test = x_train / 255.0, x_test / 255.0"
   ]
  },
  {
   "cell_type": "code",
   "execution_count": 3,
   "id": "5b1b733d",
   "metadata": {},
   "outputs": [
    {
     "data": {
      "image/png": "[encoded data removed]",
      "text/plain": [
       "<Figure size 640x480 with 10 Axes>"
      ]
     },
     "metadata": {},
     "output_type": "display_data"
    }
   ],
   "source": [
    "fig, ax = plt.subplots(2, 5)\n",
    "row, col = 0, 0\n",
    "for idx in range(10):\n",
    "    ax[row, col].imshow(x_train[idx])\n",
    "    ax[row, col].axis('off')\n",
    "    col += 1\n",
    "    if col == 5:\n",
    "        row = 1; col =0"
   ]
  },
  {
   "cell_type": "markdown",
   "id": "af66d22e",
   "metadata": {},
   "source": [
    "MNIST has 60,000 image as a training set, and 10,000 images as a testing set. That is, we train our machine learning model with the 60,000 images, and validate our model using the testing set.\n",
    "\n",
    "For the sake of learning the material, this is very big, and is not practicle. I will reduce the training set to 1000 and the testing set to 100."
   ]
  },
  {
   "cell_type": "code",
   "execution_count": 4,
   "id": "a4ef0ba1",
   "metadata": {},
   "outputs": [],
   "source": [
    "def mnist_subset(x_train, y_train, subsample = 1000):\n",
    "    numClass = int(subsample / 10)\n",
    "    new_x_train = np.zeros([numClass * 10, x_train.shape[1], x_train.shape[2]])\n",
    "    new_y_train = np.zeros([numClass * 10])\n",
    "    for label in range(10):\n",
    "        index = np.where(y_train == label)[0]\n",
    "        new_x_train[label*numClass:(label+1)*numClass, :, :] = x_train[index[:numClass], :, :]\n",
    "        new_y_train[label*numClass:(label+1)*numClass] = y_train[index[:numClass]]\n",
    "    return new_x_train, new_y_train\n",
    "    "
   ]
  },
  {
   "cell_type": "code",
   "execution_count": 5,
   "id": "1a1bf366",
   "metadata": {
    "scrolled": true
   },
   "outputs": [
    {
     "name": "stdout",
     "output_type": "stream",
     "text": [
      "Size of data\n",
      "training (1000, 28, 28)\n",
      "testing (100, 28, 28)\n"
     ]
    }
   ],
   "source": [
    "#skip this line if you want to do the full data\n",
    "x_train, y_train = mnist_subset(x_train, y_train, subsample = 1000)\n",
    "x_test, y_test = mnist_subset(x_test, y_test, subsample = 100)\n",
    "print('Size of data')\n",
    "print('training', x_train.shape)\n",
    "print('testing', x_test.shape)"
   ]
  },
  {
   "cell_type": "markdown",
   "id": "cf13dee1",
   "metadata": {},
   "source": [
    "# ANN architecture: Feed Forward\n",
    "![title](img/neuron.png)"
   ]
  },
  {
   "cell_type": "markdown",
   "id": "5a442101",
   "metadata": {},
   "source": [
    "1) Each neuron (the circle in the figure above) requires an input, weight, bias and activation\n",
    "2) Input is either the raw data or the hidden layer.\n",
    "3) Each neuron is computed as the following \n",
    "\\begin{align*}\n",
    "    h = \\sum_{i=1}^m w_ix_i + b\n",
    "\\end{align*}\n",
    "where $b$ is the bias, and $w_i$ is the weights.\n",
    "\n",
    "If we only have 1 neuron, this is essentially a line of best fit equation,\n",
    "\\begin{align*}\n",
    "    y = a_1x_1 + a_2x_2 + ... + a_mx_m + b\n",
    "\\end{align*}\n",
    "\n",
    "4) The activation function is a nonlinear function that converts $h$ to some positive number. We utilize activation to introduce nonlinearity to deep learning models. Otherwise, deep learning will just be a bunch of linear regression put together.\n",
    "\n",
    "5) Comon activation functions are ReLu, sigmoid, softmax. See tensorflow's page for all the different types. [Tensor Flow activation](https://www.tensorflow.org/api_docs/python/tf/keras/activations)"
   ]
  },
  {
   "cell_type": "markdown",
   "id": "c465b03c",
   "metadata": {},
   "source": [
    "![title](img/ANN_network.png)"
   ]
  },
  {
   "cell_type": "markdown",
   "id": "8bd35581",
   "metadata": {},
   "source": [
    "Now, if we consider a group of neurons, we have to use matrix notation.\n",
    "\n",
    "1) The input layer, we denote $x$. This is essentially your raw data. Then, the first hidden layer $H_1$ is defined as \n",
    "\\begin{align*}\n",
    "H_1 = xW_1 + b_1\n",
    "\\end{align*}\n",
    "In this example, $x \\in \\mathbb{R}^{4}$, $W_1 \\in \\mathbb{R}^{4 \\times 5}$, and $b_1 \\in \\mathbb{R}^{5}$, and $H_1 \\in \\mathbb{R}^{4 \\times 5}$, where $M$ is the number of data.\n",
    "2) Then, we use the activation function $f_1$\n",
    "\\begin{align*}\n",
    "    f_1 = ReLu(H_1)\n",
    "\\end{align*}"
   ]
  },
  {
   "cell_type": "markdown",
   "id": "db7c3838",
   "metadata": {},
   "source": [
    "3) The second hidden layer $H_2$ will be computed using the input $f_1$ from the previous layer.\n",
    "\\begin{align*}\n",
    "H_2 = f_1W_2 + b_2\n",
    "\\end{align*}\n",
    "4) One again, we use an activation function\n",
    "\\begin{align*}\n",
    "    f_2 = ReLu(H_2)\n",
    "\\end{align*}"
   ]
  },
  {
   "cell_type": "markdown",
   "id": "7b3e3f28",
   "metadata": {},
   "source": [
    "5) Now, we compute the output layer, which is essentially the exact same thing\n",
    "\\begin{align*}\n",
    "    H_3 = f_2W_3 + b_3\n",
    "\\end{align*}\n",
    "\n",
    "The only difference here is that the number of output layer is predetermined. If we have 10 class (as in the MNIST data), we will have 10 nodes.\n",
    "\n",
    "6) Often times for classification, we use softmax function for the output layers\n",
    "\\begin{align*}\n",
    "    \\hat{y} = softmax(H_3)\n",
    "\\end{align*}\n",
    "where $softmax = \\frac{e^{H_{3}^i}}{\\sum e^{H_{3}^i}}$"
   ]
  },
  {
   "cell_type": "markdown",
   "id": "c26a06d9",
   "metadata": {},
   "source": [
    "# ANN: Back Propagation\n",
    "![title](img/backprop.png)\n",
    "Now, the only thing left to do is determine what the weights, $W_1, W_2, W_3$ and the biases $b_1, b_2, b_3$ are. These quantities are obtained via lots of derivative."
   ]
  },
  {
   "cell_type": "markdown",
   "id": "5985b269",
   "metadata": {},
   "source": [
    "Before we begin the back propagation, we need to define a loss function. I would refer to this video on [cross entropy](https://youtu.be/YtebGVx-Fxw?si=x3c88U4bkJ1A4zfe) to learn about why we use cross-entropy function\n",
    "\n",
    "The loss function is given as\n",
    "\\begin{align*}\n",
    "    L = - \\sum_i y_i \\log(\\hat{y})_i)\n",
    "\\end{align*}\n",
    "where $y_i$ is the true label, and $\\hat{y}_i$ is the predicted label from setp (6).\n",
    "\n",
    "Compute the partial derivative with respect to $W_1, W_2, W_3, b_1, b_2, b_3$ to obtain the weights and biases\n",
    "\n",
    "It is very much worth your time to calculate these derivatives, if you are interested in pursuing some kind of career in deep learning. Otherwise, for the sake of the project, we will just assume these derivatives are ok."
   ]
  },
  {
   "cell_type": "markdown",
   "id": "035427a7",
   "metadata": {},
   "source": [
    "# Tensorflow implementation\n",
    "\n",
    "We will use the 'Sequential' model to construct our ANN. I will also use Relu for the activation function.\n",
    "\n",
    "Sequential is useful for stacking layers where each layer has one input tensor and one output tensor. Layers are functions with a known mathematical structure that can be reused and have trainable variables. Most TensorFlow models are composed of layers. This model uses the Flatten, Dense, and Dropout layers.\n"
   ]
  },
  {
   "cell_type": "code",
   "execution_count": 6,
   "id": "9553d13d",
   "metadata": {},
   "outputs": [],
   "source": [
    "model = tf.keras.models.Sequential([\n",
    "  tf.keras.layers.Flatten(input_shape=(28, 28)),  #This is just to convert the image to a vector of length 28*28\n",
    "  tf.keras.layers.Dense(256, activation='relu'),   #256 is the number of noden in hiden layer 1\n",
    "  tf.keras.layers.Dense(128, activation='relu'),   # number of nodes in hiden layer 2 \n",
    "  tf.keras.layers.Dense(10)    #output layer\n",
    "])"
   ]
  },
  {
   "cell_type": "markdown",
   "id": "aba398dd",
   "metadata": {},
   "source": [
    "Now, we need an output from our last layer, which has 10 nodes."
   ]
  },
  {
   "cell_type": "code",
   "execution_count": 7,
   "id": "14e0bbae",
   "metadata": {
    "scrolled": true
   },
   "outputs": [
    {
     "data": {
      "text/plain": [
       "array([[-0.6608275 , -0.2821433 ,  0.02270977, -0.27555802, -0.22411369,\n",
       "        -0.18071389, -0.59717596,  0.20937912,  0.06395733,  0.28594387]],\n",
       "      dtype=float32)"
      ]
     },
     "execution_count": 7,
     "metadata": {},
     "output_type": "execute_result"
    }
   ],
   "source": [
    "predictions = model(x_train[:1]).numpy()\n",
    "predictions"
   ]
  },
  {
   "cell_type": "markdown",
   "id": "9a8a68c5",
   "metadata": {},
   "source": [
    "Notice that these values have negatives, and it is difficult to understand what the heck these values mean. Therefore, we apply the softmax activation function to convert these values into probabilities."
   ]
  },
  {
   "cell_type": "code",
   "execution_count": 8,
   "id": "c3bf16ed",
   "metadata": {},
   "outputs": [
    {
     "data": {
      "text/plain": [
       "array([[0.05824145, 0.08505359, 0.11536887, 0.08561555, 0.09013523,\n",
       "        0.09413321, 0.06206914, 0.13904588, 0.12022707, 0.15011005]],\n",
       "      dtype=float32)"
      ]
     },
     "execution_count": 8,
     "metadata": {},
     "output_type": "execute_result"
    }
   ],
   "source": [
    "tf.nn.softmax(predictions).numpy()"
   ]
  },
  {
   "cell_type": "markdown",
   "id": "c403d987",
   "metadata": {},
   "source": [
    "This means that the probability of digit being '0' is the first entry, the probability of digit '1' is the second entry, and so on\n",
    "\n",
    "Now, we define the loss function (the cross entropy)"
   ]
  },
  {
   "cell_type": "code",
   "execution_count": 9,
   "id": "04419169",
   "metadata": {},
   "outputs": [],
   "source": [
    "loss_fn = tf.keras.losses.SparseCategoricalCrossentropy(from_logits=True)"
   ]
  },
  {
   "cell_type": "code",
   "execution_count": 10,
   "id": "a187892b",
   "metadata": {},
   "outputs": [],
   "source": [
    "model.compile(optimizer='adam',\n",
    "              loss=loss_fn,\n",
    "              metrics=['accuracy'])"
   ]
  },
  {
   "cell_type": "markdown",
   "id": "fb762b67",
   "metadata": {},
   "source": [
    "Now, we are basically done. The last step is to train our model using our 1,000 training data. We are using the 'adam' optimizer. This is a optimization scheme that utilizes stochastic gradient descent, which is essentially a computing the partial derivatives, but only using a subset of the data to speed up computation. See this [video](https://www.youtube.com/watch?v=vMh0zPT0tLI) for a quick tutorial\n",
    "\n",
    "In machine learning 'epoch' means number of iteration."
   ]
  },
  {
   "cell_type": "code",
   "execution_count": 11,
   "id": "5aba7ff9",
   "metadata": {},
   "outputs": [
    {
     "name": "stdout",
     "output_type": "stream",
     "text": [
      "Epoch 1/5\n",
      "32/32 [==============================] - 1s 2ms/step - loss: 1.3438 - accuracy: 0.6130\n",
      "Epoch 2/5\n",
      "32/32 [==============================] - 0s 2ms/step - loss: 0.4557 - accuracy: 0.8790\n",
      "Epoch 3/5\n",
      "32/32 [==============================] - 0s 2ms/step - loss: 0.2858 - accuracy: 0.9310\n",
      "Epoch 4/5\n",
      "32/32 [==============================] - 0s 2ms/step - loss: 0.1754 - accuracy: 0.9610\n",
      "Epoch 5/5\n",
      "32/32 [==============================] - 0s 2ms/step - loss: 0.1165 - accuracy: 0.9730\n"
     ]
    },
    {
     "data": {
      "text/plain": [
       "<keras.src.callbacks.History at 0x2a6f9cada90>"
      ]
     },
     "execution_count": 11,
     "metadata": {},
     "output_type": "execute_result"
    }
   ],
   "source": [
    "model.fit(x_train, y_train, epochs=5)"
   ]
  },
  {
   "cell_type": "code",
   "execution_count": 12,
   "id": "b798f32e",
   "metadata": {},
   "outputs": [
    {
     "name": "stdout",
     "output_type": "stream",
     "text": [
      "4/4 - 0s - loss: 0.3266 - accuracy: 0.8800 - 93ms/epoch - 23ms/step\n"
     ]
    },
    {
     "data": {
      "text/plain": [
       "[0.32657182216644287, 0.8799999952316284]"
      ]
     },
     "execution_count": 12,
     "metadata": {},
     "output_type": "execute_result"
    }
   ],
   "source": [
    "model.evaluate(x_test,  y_test, verbose=2)"
   ]
  },
  {
   "cell_type": "markdown",
   "id": "8b8a58df",
   "metadata": {},
   "source": [
    "Our evaluation show that with our testing set, we get ~90% accuracy."
   ]
  },
  {
   "cell_type": "code",
   "execution_count": null,
   "id": "60f29353",
   "metadata": {},
   "outputs": [],
   "source": []
  },
  {
   "cell_type": "markdown",
   "id": "edb05de4",
   "metadata": {},
   "source": [
    "# Extension to ANN\n",
    "\n",
    "We have now done the most basic ANN.\n",
    "\n",
    "It is really up to the researchers to fine tune parameters to get the best results.\n",
    "\n",
    "for example, we can change the number of nodes in the hidden layers and change the activation function. \n",
    "\n",
    "Lastly, I want to introduce the concept called 'Drop out'"
   ]
  },
  {
   "cell_type": "markdown",
   "id": "8cccb96c",
   "metadata": {},
   "source": [
    "![title](img/ANN_dropout.png)"
   ]
  },
  {
   "cell_type": "markdown",
   "id": "67d616b5",
   "metadata": {},
   "source": [
    "In deep learning, we have a concept call 'over fitting', where our model now fits to the noise, rather than the useful data. We introduce a concept called 'drop out' to reduce the effect of overfitting. There are 2 types of dropout\n",
    "1) Eliminate a node in the hidden layer\n",
    "2) Eliminate some of the connections.\n",
    "\n",
    "Both are valid strategies, and luckily, tensorflow has a nice implementation. I set the drop out to be 20%, ie we eliminate 20% of the nodes."
   ]
  },
  {
   "cell_type": "code",
   "execution_count": 13,
   "id": "dbe9b59d",
   "metadata": {},
   "outputs": [],
   "source": [
    "model_dropout = tf.keras.models.Sequential([\n",
    "  tf.keras.layers.Flatten(input_shape=(28, 28)),\n",
    "  tf.keras.layers.Dense(256, activation='relu'),\n",
    "  tf.keras.layers.Dropout(0.2),\n",
    "  tf.keras.layers.Dense(128, activation='relu'),\n",
    "  tf.keras.layers.Dropout(0.2),\n",
    "  tf.keras.layers.Dense(10)\n",
    "])\n",
    "loss_fn = tf.keras.losses.SparseCategoricalCrossentropy(from_logits=True)"
   ]
  },
  {
   "cell_type": "code",
   "execution_count": 14,
   "id": "49a736f9",
   "metadata": {},
   "outputs": [
    {
     "name": "stdout",
     "output_type": "stream",
     "text": [
      "Epoch 1/5\n",
      "32/32 [==============================] - 0s 2ms/step - loss: 1.4873 - accuracy: 0.5590\n",
      "Epoch 2/5\n",
      "32/32 [==============================] - 0s 2ms/step - loss: 0.6229 - accuracy: 0.7960\n",
      "Epoch 3/5\n",
      "32/32 [==============================] - 0s 2ms/step - loss: 0.4071 - accuracy: 0.8840\n",
      "Epoch 4/5\n",
      "32/32 [==============================] - 0s 2ms/step - loss: 0.3273 - accuracy: 0.9020\n",
      "Epoch 5/5\n",
      "32/32 [==============================] - 0s 2ms/step - loss: 0.2523 - accuracy: 0.9280\n"
     ]
    },
    {
     "data": {
      "text/plain": [
       "<keras.src.callbacks.History at 0x2a6fc767190>"
      ]
     },
     "execution_count": 14,
     "metadata": {},
     "output_type": "execute_result"
    }
   ],
   "source": [
    "model_dropout.compile(optimizer='adam',\n",
    "              loss=loss_fn,\n",
    "              metrics=['accuracy'])\n",
    "model_dropout.fit(x_train, y_train, epochs=5)"
   ]
  },
  {
   "cell_type": "code",
   "execution_count": 15,
   "id": "7310bf41",
   "metadata": {},
   "outputs": [
    {
     "name": "stdout",
     "output_type": "stream",
     "text": [
      "4/4 - 0s - loss: 0.3495 - accuracy: 0.8700 - 79ms/epoch - 20ms/step\n"
     ]
    },
    {
     "data": {
      "text/plain": [
       "[0.3494838774204254, 0.8700000047683716]"
      ]
     },
     "execution_count": 15,
     "metadata": {},
     "output_type": "execute_result"
    }
   ],
   "source": [
    "model_dropout.evaluate(x_test,  y_test, verbose=2)"
   ]
  },
  {
   "cell_type": "markdown",
   "id": "0d0be854",
   "metadata": {},
   "source": []
  },
  {
   "cell_type": "code",
   "execution_count": null,
   "id": "25d17afb",
   "metadata": {},
   "outputs": [],
   "source": []
  }
 ],
 "metadata": {
  "kernelspec": {
   "display_name": "Python 3 (ipykernel)",
   "language": "python",
   "name": "python3"
  },
  "language_info": {
   "codemirror_mode": {
    "name": "ipython",
    "version": 3
   },
   "file_extension": ".py",
   "mimetype": "text/x-python",
   "name": "python",
   "nbconvert_exporter": "python",
   "pygments_lexer": "ipython3",
   "version": "3.11.5"
  }
 },
 "nbformat": 4,
 "nbformat_minor": 5
}
